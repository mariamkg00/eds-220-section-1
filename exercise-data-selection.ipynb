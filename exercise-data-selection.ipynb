{
 "cells": [
  {
   "cell_type": "markdown",
   "id": "75d68b43-ffdd-4e9a-81ff-b408edb8f83a",
   "metadata": {},
   "source": [
    "## Archive Exploration\n",
    "Description of the dataset,citation, date of access, and link:\n",
    "This dataset is a synthesis of multiple datasets. The dataset seems to have a range starting from 1945-2022, with bioclimatic variables ranging from 1970 to 2000.\n",
    "\n"
   ]
  }
 ],
 "metadata": {
  "kernelspec": {
   "display_name": "Anaconda 3 (Base)",
   "language": "python",
   "name": "base"
  },
  "language_info": {
   "codemirror_mode": {
    "name": "ipython",
    "version": 3
   },
   "file_extension": ".py",
   "mimetype": "text/x-python",
   "name": "python",
   "nbconvert_exporter": "python",
   "pygments_lexer": "ipython3",
   "version": "3.9.13"
  }
 },
 "nbformat": 4,
 "nbformat_minor": 5
}
